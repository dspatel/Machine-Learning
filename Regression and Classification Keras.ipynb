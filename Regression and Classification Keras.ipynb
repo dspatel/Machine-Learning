{
 "cells": [
  {
   "cell_type": "markdown",
   "id": "c5835114",
   "metadata": {},
   "source": [
    "Using MNIST Database fo train image processing systems and build a NN"
   ]
  },
  {
   "cell_type": "markdown",
   "id": "38fba921",
   "metadata": {},
   "source": []
  },
  {
   "cell_type": "code",
   "execution_count": 1,
   "id": "d5309aa1",
   "metadata": {},
   "outputs": [
    {
     "name": "stdout",
     "output_type": "stream",
     "text": [
      "Requirement already satisfied: tensorflow_cpu==2.18.0 in e:\\machine learning\\.venv\\lib\\site-packages (2.18.0)\n",
      "Requirement already satisfied: tensorflow-intel==2.18.0 in e:\\machine learning\\.venv\\lib\\site-packages (from tensorflow_cpu==2.18.0) (2.18.0)\n",
      "Requirement already satisfied: absl-py>=1.0.0 in e:\\machine learning\\.venv\\lib\\site-packages (from tensorflow-intel==2.18.0->tensorflow_cpu==2.18.0) (2.2.2)\n",
      "Requirement already satisfied: astunparse>=1.6.0 in e:\\machine learning\\.venv\\lib\\site-packages (from tensorflow-intel==2.18.0->tensorflow_cpu==2.18.0) (1.6.3)\n",
      "Requirement already satisfied: flatbuffers>=24.3.25 in e:\\machine learning\\.venv\\lib\\site-packages (from tensorflow-intel==2.18.0->tensorflow_cpu==2.18.0) (25.2.10)\n",
      "Requirement already satisfied: gast!=0.5.0,!=0.5.1,!=0.5.2,>=0.2.1 in e:\\machine learning\\.venv\\lib\\site-packages (from tensorflow-intel==2.18.0->tensorflow_cpu==2.18.0) (0.6.0)\n",
      "Requirement already satisfied: google-pasta>=0.1.1 in e:\\machine learning\\.venv\\lib\\site-packages (from tensorflow-intel==2.18.0->tensorflow_cpu==2.18.0) (0.2.0)\n",
      "Requirement already satisfied: libclang>=13.0.0 in e:\\machine learning\\.venv\\lib\\site-packages (from tensorflow-intel==2.18.0->tensorflow_cpu==2.18.0) (18.1.1)\n",
      "Requirement already satisfied: opt-einsum>=2.3.2 in e:\\machine learning\\.venv\\lib\\site-packages (from tensorflow-intel==2.18.0->tensorflow_cpu==2.18.0) (3.4.0)\n",
      "Requirement already satisfied: packaging in e:\\machine learning\\.venv\\lib\\site-packages (from tensorflow-intel==2.18.0->tensorflow_cpu==2.18.0) (24.2)\n",
      "Requirement already satisfied: protobuf!=4.21.0,!=4.21.1,!=4.21.2,!=4.21.3,!=4.21.4,!=4.21.5,<6.0.0dev,>=3.20.3 in e:\\machine learning\\.venv\\lib\\site-packages (from tensorflow-intel==2.18.0->tensorflow_cpu==2.18.0) (5.29.4)\n",
      "Requirement already satisfied: requests<3,>=2.21.0 in e:\\machine learning\\.venv\\lib\\site-packages (from tensorflow-intel==2.18.0->tensorflow_cpu==2.18.0) (2.32.3)\n",
      "Requirement already satisfied: setuptools in e:\\machine learning\\.venv\\lib\\site-packages (from tensorflow-intel==2.18.0->tensorflow_cpu==2.18.0) (78.1.0)\n",
      "Requirement already satisfied: six>=1.12.0 in e:\\machine learning\\.venv\\lib\\site-packages (from tensorflow-intel==2.18.0->tensorflow_cpu==2.18.0) (1.17.0)\n",
      "Requirement already satisfied: termcolor>=1.1.0 in e:\\machine learning\\.venv\\lib\\site-packages (from tensorflow-intel==2.18.0->tensorflow_cpu==2.18.0) (3.0.1)\n",
      "Requirement already satisfied: typing-extensions>=3.6.6 in e:\\machine learning\\.venv\\lib\\site-packages (from tensorflow-intel==2.18.0->tensorflow_cpu==2.18.0) (4.13.1)\n",
      "Requirement already satisfied: wrapt>=1.11.0 in e:\\machine learning\\.venv\\lib\\site-packages (from tensorflow-intel==2.18.0->tensorflow_cpu==2.18.0) (1.17.2)\n",
      "Requirement already satisfied: grpcio<2.0,>=1.24.3 in e:\\machine learning\\.venv\\lib\\site-packages (from tensorflow-intel==2.18.0->tensorflow_cpu==2.18.0) (1.71.0)\n",
      "Requirement already satisfied: tensorboard<2.19,>=2.18 in e:\\machine learning\\.venv\\lib\\site-packages (from tensorflow-intel==2.18.0->tensorflow_cpu==2.18.0) (2.18.0)\n",
      "Requirement already satisfied: keras>=3.5.0 in e:\\machine learning\\.venv\\lib\\site-packages (from tensorflow-intel==2.18.0->tensorflow_cpu==2.18.0) (3.9.2)\n",
      "Requirement already satisfied: numpy<2.1.0,>=1.26.0 in e:\\machine learning\\.venv\\lib\\site-packages (from tensorflow-intel==2.18.0->tensorflow_cpu==2.18.0) (2.0.2)\n",
      "Requirement already satisfied: h5py>=3.11.0 in e:\\machine learning\\.venv\\lib\\site-packages (from tensorflow-intel==2.18.0->tensorflow_cpu==2.18.0) (3.13.0)\n",
      "Requirement already satisfied: ml-dtypes<0.5.0,>=0.4.0 in e:\\machine learning\\.venv\\lib\\site-packages (from tensorflow-intel==2.18.0->tensorflow_cpu==2.18.0) (0.4.1)\n",
      "Requirement already satisfied: wheel<1.0,>=0.23.0 in e:\\machine learning\\.venv\\lib\\site-packages (from astunparse>=1.6.0->tensorflow-intel==2.18.0->tensorflow_cpu==2.18.0) (0.45.1)\n",
      "Requirement already satisfied: rich in e:\\machine learning\\.venv\\lib\\site-packages (from keras>=3.5.0->tensorflow-intel==2.18.0->tensorflow_cpu==2.18.0) (14.0.0)\n",
      "Requirement already satisfied: namex in e:\\machine learning\\.venv\\lib\\site-packages (from keras>=3.5.0->tensorflow-intel==2.18.0->tensorflow_cpu==2.18.0) (0.0.8)\n",
      "Requirement already satisfied: optree in e:\\machine learning\\.venv\\lib\\site-packages (from keras>=3.5.0->tensorflow-intel==2.18.0->tensorflow_cpu==2.18.0) (0.15.0)\n",
      "Requirement already satisfied: charset-normalizer<4,>=2 in e:\\machine learning\\.venv\\lib\\site-packages (from requests<3,>=2.21.0->tensorflow-intel==2.18.0->tensorflow_cpu==2.18.0) (3.4.1)\n",
      "Requirement already satisfied: idna<4,>=2.5 in e:\\machine learning\\.venv\\lib\\site-packages (from requests<3,>=2.21.0->tensorflow-intel==2.18.0->tensorflow_cpu==2.18.0) (3.10)\n",
      "Requirement already satisfied: urllib3<3,>=1.21.1 in e:\\machine learning\\.venv\\lib\\site-packages (from requests<3,>=2.21.0->tensorflow-intel==2.18.0->tensorflow_cpu==2.18.0) (2.3.0)\n",
      "Requirement already satisfied: certifi>=2017.4.17 in e:\\machine learning\\.venv\\lib\\site-packages (from requests<3,>=2.21.0->tensorflow-intel==2.18.0->tensorflow_cpu==2.18.0) (2025.1.31)\n",
      "Requirement already satisfied: markdown>=2.6.8 in e:\\machine learning\\.venv\\lib\\site-packages (from tensorboard<2.19,>=2.18->tensorflow-intel==2.18.0->tensorflow_cpu==2.18.0) (3.7)\n",
      "Requirement already satisfied: tensorboard-data-server<0.8.0,>=0.7.0 in e:\\machine learning\\.venv\\lib\\site-packages (from tensorboard<2.19,>=2.18->tensorflow-intel==2.18.0->tensorflow_cpu==2.18.0) (0.7.2)\n",
      "Requirement already satisfied: werkzeug>=1.0.1 in e:\\machine learning\\.venv\\lib\\site-packages (from tensorboard<2.19,>=2.18->tensorflow-intel==2.18.0->tensorflow_cpu==2.18.0) (3.1.3)\n",
      "Requirement already satisfied: MarkupSafe>=2.1.1 in e:\\machine learning\\.venv\\lib\\site-packages (from werkzeug>=1.0.1->tensorboard<2.19,>=2.18->tensorflow-intel==2.18.0->tensorflow_cpu==2.18.0) (3.0.2)\n",
      "Requirement already satisfied: markdown-it-py>=2.2.0 in e:\\machine learning\\.venv\\lib\\site-packages (from rich->keras>=3.5.0->tensorflow-intel==2.18.0->tensorflow_cpu==2.18.0) (3.0.0)\n",
      "Requirement already satisfied: pygments<3.0.0,>=2.13.0 in e:\\machine learning\\.venv\\lib\\site-packages (from rich->keras>=3.5.0->tensorflow-intel==2.18.0->tensorflow_cpu==2.18.0) (2.19.1)\n",
      "Requirement already satisfied: mdurl~=0.1 in e:\\machine learning\\.venv\\lib\\site-packages (from markdown-it-py>=2.2.0->rich->keras>=3.5.0->tensorflow-intel==2.18.0->tensorflow_cpu==2.18.0) (0.1.2)\n",
      "Collecting matplotlib==3.9.2\n",
      "  Downloading matplotlib-3.9.2-cp312-cp312-win_amd64.whl.metadata (11 kB)\n",
      "Requirement already satisfied: contourpy>=1.0.1 in e:\\machine learning\\.venv\\lib\\site-packages (from matplotlib==3.9.2) (1.3.1)\n",
      "Requirement already satisfied: cycler>=0.10 in e:\\machine learning\\.venv\\lib\\site-packages (from matplotlib==3.9.2) (0.12.1)\n",
      "Requirement already satisfied: fonttools>=4.22.0 in e:\\machine learning\\.venv\\lib\\site-packages (from matplotlib==3.9.2) (4.57.0)\n",
      "Requirement already satisfied: kiwisolver>=1.3.1 in e:\\machine learning\\.venv\\lib\\site-packages (from matplotlib==3.9.2) (1.4.8)\n",
      "Requirement already satisfied: numpy>=1.23 in e:\\machine learning\\.venv\\lib\\site-packages (from matplotlib==3.9.2) (2.0.2)\n",
      "Requirement already satisfied: packaging>=20.0 in e:\\machine learning\\.venv\\lib\\site-packages (from matplotlib==3.9.2) (24.2)\n",
      "Requirement already satisfied: pillow>=8 in e:\\machine learning\\.venv\\lib\\site-packages (from matplotlib==3.9.2) (11.0.0)\n",
      "Requirement already satisfied: pyparsing>=2.3.1 in e:\\machine learning\\.venv\\lib\\site-packages (from matplotlib==3.9.2) (3.2.3)\n",
      "Requirement already satisfied: python-dateutil>=2.7 in e:\\machine learning\\.venv\\lib\\site-packages (from matplotlib==3.9.2) (2.9.0.post0)\n",
      "Requirement already satisfied: six>=1.5 in e:\\machine learning\\.venv\\lib\\site-packages (from python-dateutil>=2.7->matplotlib==3.9.2) (1.17.0)\n",
      "Downloading matplotlib-3.9.2-cp312-cp312-win_amd64.whl (7.8 MB)\n",
      "   ---------------------------------------- 0.0/7.8 MB ? eta -:--:--\n",
      "   ---------------------------------------- 7.8/7.8 MB 48.5 MB/s eta 0:00:00\n",
      "Installing collected packages: matplotlib\n",
      "  Attempting uninstall: matplotlib\n",
      "    Found existing installation: matplotlib 3.10.1\n",
      "    Uninstalling matplotlib-3.10.1:\n",
      "      Successfully uninstalled matplotlib-3.10.1\n",
      "Successfully installed matplotlib-3.9.2\n"
     ]
    }
   ],
   "source": [
    "#install libraries\n",
    "!pip install tensorflow_cpu==2.18.0\n",
    "!pip install matplotlib==3.9.2"
   ]
  },
  {
   "cell_type": "code",
   "execution_count": 2,
   "id": "abf9009b",
   "metadata": {},
   "outputs": [],
   "source": [
    "import os\n",
    "os.environ['TF_ENABLE_ONEDNN_OPTS'] = '0'\n",
    "os.environ['TF_CPP_MIN_LOG_LEVEL'] = '2'"
   ]
  },
  {
   "cell_type": "code",
   "execution_count": 6,
   "id": "0eae3cc0",
   "metadata": {},
   "outputs": [],
   "source": [
    "#import libraries\n",
    "import numpy as np\n",
    "import matplotlib.pyplot as plt\n",
    "import keras\n",
    "from keras.models import Sequential\n",
    "from keras.layers import Dense, Input\n",
    "from keras.utils import to_categorical"
   ]
  },
  {
   "cell_type": "code",
   "execution_count": 4,
   "id": "6113d5e3",
   "metadata": {},
   "outputs": [
    {
     "data": {
      "text/plain": [
       "(60000, 28, 28)"
      ]
     },
     "execution_count": 4,
     "metadata": {},
     "output_type": "execute_result"
    }
   ],
   "source": [
    "# Test dataset from keras library\n",
    "from keras.datasets import mnist\n",
    "\n",
    "#read dataset\n",
    "(X_train, y_train), (X_test, y_test) = mnist.load_data()\n",
    "X_train.shape"
   ]
  },
  {
   "cell_type": "code",
   "execution_count": 7,
   "id": "9c59f5d1",
   "metadata": {},
   "outputs": [
    {
     "data": {
      "text/plain": [
       "<matplotlib.image.AxesImage at 0x1cd49624f20>"
      ]
     },
     "execution_count": 7,
     "metadata": {},
     "output_type": "execute_result"
    },
    {
     "data": {
      "image/png": "[encoded data removed]",
      "text/plain": [
       "<Figure size 640x480 with 1 Axes>"
      ]
     },
     "metadata": {},
     "output_type": "display_data"
    }
   ],
   "source": [
    "#lets visualize the data\n",
    "plt.imshow(X_train[0], cmap='gray')"
   ]
  },
  {
   "cell_type": "code",
   "execution_count": 8,
   "id": "8e2e58c8",
   "metadata": {},
   "outputs": [],
   "source": [
    "#Flatten the image in 1D vectors as conventional neural networks cannot process 2D data\n",
    "num_pixels = X_train.shape[1] * X_train.shape[2] #find the size of the vector\n",
    "X_train = X_train.reshape(X_train.shape[0], num_pixels).astype('float32') #reshape the training data\n",
    "X_test = X_test.reshape(X_test.shape[0], num_pixels).astype('float32') #reshape the test data\n",
    "#normalize the data as the pixel values are between 0-255\n",
    "X_train = X_train / 255 #normalize the training data\n",
    "X_test = X_test / 255 #normalize the test data\n"
   ]
  },
  {
   "cell_type": "code",
   "execution_count": 9,
   "id": "b1a85cec",
   "metadata": {},
   "outputs": [
    {
     "name": "stdout",
     "output_type": "stream",
     "text": [
      "Number of classes:  10\n"
     ]
    }
   ],
   "source": [
    "#for classification, we need to convert the labels to one-hot encoding\n",
    "y_train = to_categorical(y_train) #one-hot encoding for training data\n",
    "y_test = to_categorical(y_test) #one-hot encoding for test data\n",
    "#check the shape of the data    \n",
    "num_classes = y_train.shape[1] #number of classes\n",
    "print(\"Number of classes: \", num_classes)"
   ]
  },
  {
   "cell_type": "code",
   "execution_count": 9,
   "id": "f25384c5",
   "metadata": {},
   "outputs": [
    {
     "data": {
      "text/plain": [
       "array([[0., 0., 0., ..., 0., 0., 0.],\n",
       "       [0., 0., 0., ..., 0., 0., 0.],\n",
       "       [0., 0., 0., ..., 0., 0., 0.],\n",
       "       ...,\n",
       "       [0., 0., 0., ..., 0., 0., 0.],\n",
       "       [0., 0., 0., ..., 0., 0., 0.],\n",
       "       [0., 0., 0., ..., 0., 0., 0.]], dtype=float32)"
      ]
     },
     "execution_count": 9,
     "metadata": {},
     "output_type": "execute_result"
    }
   ],
   "source": [
    "X_train"
   ]
  },
  {
   "cell_type": "code",
   "execution_count": 10,
   "id": "bbe5753c",
   "metadata": {},
   "outputs": [],
   "source": [
    "#Build the neural network model class\n",
    "def classification_model():\n",
    "    model = Sequential()\n",
    "    model.add(Input(shape=(num_pixels,))) #input layer\n",
    "    model.add(Dense(num_pixels, activation='relu')) #hidden layer 1\n",
    "    model.add(Dense(100, activation='relu')) #hidden layer 2\n",
    "    model.add(Dense(num_classes, activation='softmax')) #output layer\n",
    "    model.compile(loss='categorical_crossentropy', optimizer='adam', metrics=['accuracy']) #compile the model   \n",
    "    return model"
   ]
  },
  {
   "cell_type": "code",
   "execution_count": 11,
   "id": "184f1a24",
   "metadata": {},
   "outputs": [
    {
     "name": "stdout",
     "output_type": "stream",
     "text": [
      "Epoch 1/10\n"
     ]
    },
    {
     "name": "stderr",
     "output_type": "stream",
     "text": [
      "<>:6: SyntaxWarning: invalid escape sequence '\\ '\n",
      "<>:6: SyntaxWarning: invalid escape sequence '\\ '\n",
      "C:\\Users\\Dhaval\\AppData\\Local\\Temp\\ipykernel_532\\1768267781.py:6: SyntaxWarning: invalid escape sequence '\\ '\n",
      "  print('Accuracy: {}% \\ Error: {}'.format(scores[1],1-scores[1])) #accuracy\n"
     ]
    },
    {
     "name": "stdout",
     "output_type": "stream",
     "text": [
      "1875/1875 - 8s - 5ms/step - accuracy: 0.9449 - loss: 0.1841 - val_accuracy: 0.9715 - val_loss: 0.0901\n",
      "Epoch 2/10\n",
      "1875/1875 - 8s - 4ms/step - accuracy: 0.9754 - loss: 0.0793 - val_accuracy: 0.9759 - val_loss: 0.0784\n",
      "Epoch 3/10\n",
      "1875/1875 - 8s - 4ms/step - accuracy: 0.9832 - loss: 0.0529 - val_accuracy: 0.9811 - val_loss: 0.0630\n",
      "Epoch 4/10\n",
      "1875/1875 - 8s - 4ms/step - accuracy: 0.9869 - loss: 0.0394 - val_accuracy: 0.9787 - val_loss: 0.0743\n",
      "Epoch 5/10\n",
      "1875/1875 - 9s - 5ms/step - accuracy: 0.9894 - loss: 0.0321 - val_accuracy: 0.9795 - val_loss: 0.0697\n",
      "Epoch 6/10\n",
      "1875/1875 - 9s - 5ms/step - accuracy: 0.9920 - loss: 0.0248 - val_accuracy: 0.9799 - val_loss: 0.0795\n",
      "Epoch 7/10\n",
      "1875/1875 - 9s - 5ms/step - accuracy: 0.9923 - loss: 0.0232 - val_accuracy: 0.9799 - val_loss: 0.0815\n",
      "Epoch 8/10\n",
      "1875/1875 - 9s - 5ms/step - accuracy: 0.9934 - loss: 0.0207 - val_accuracy: 0.9788 - val_loss: 0.0917\n",
      "Epoch 9/10\n",
      "1875/1875 - 9s - 5ms/step - accuracy: 0.9943 - loss: 0.0180 - val_accuracy: 0.9798 - val_loss: 0.0806\n",
      "Epoch 10/10\n",
      "1875/1875 - 9s - 5ms/step - accuracy: 0.9958 - loss: 0.0144 - val_accuracy: 0.9796 - val_loss: 0.0889\n",
      "Accuracy: 0.9796000123023987% \\ Error: 0.02039998769760132\n"
     ]
    }
   ],
   "source": [
    "#Train and Test the model\n",
    "model = classification_model() #create the model\n",
    "model.fit(X_train, y_train, validation_data=(X_test,y_test),epochs=10, verbose=2) #train the model\n",
    "scores = model.evaluate(X_test, y_test, verbose=0) #test the model\n",
    "#Print accuracy and error\n",
    "print('Accuracy: {}% \\ Error: {}'.format(scores[1],1-scores[1])) #accuracy   "
   ]
  }
 ],
 "metadata": {
  "kernelspec": {
   "display_name": ".venv",
   "language": "python",
   "name": "python3"
  },
  "language_info": {
   "codemirror_mode": {
    "name": "ipython",
    "version": 3
   },
   "file_extension": ".py",
   "mimetype": "text/x-python",
   "name": "python",
   "nbconvert_exporter": "python",
   "pygments_lexer": "ipython3",
   "version": "3.12.0"
  }
 },
 "nbformat": 4,
 "nbformat_minor": 5
}
