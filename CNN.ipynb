{
 "cells": [
  {
   "cell_type": "code",
   "execution_count": 6,
   "id": "77e34f7b",
   "metadata": {},
   "outputs": [],
   "source": [
    "#Import libraries\n",
    "import keras\n",
    "from keras.models import Sequential\n",
    "from keras.layers import Dense\n",
    "from keras.layers import Input\n",
    "from keras.utils import to_categorical"
   ]
  },
  {
   "cell_type": "code",
   "execution_count": 7,
   "id": "2e37d10e",
   "metadata": {},
   "outputs": [],
   "source": [
    "# Libraries for Convolutional Neural Networks\n",
    "from keras.layers import Conv2D, MaxPooling2D, Flatten"
   ]
  },
  {
   "cell_type": "code",
   "execution_count": 19,
   "id": "39d0590c",
   "metadata": {},
   "outputs": [],
   "source": [
    "#CNN with one set of Conv2D and MaxPooling2D layers\n",
    "from keras.datasets import mnist\n",
    "\n",
    "#Load the MNIST dataset\n",
    "(X_train, y_train), (X_test, y_test) = mnist.load_data()\n",
    "\n",
    "# reshape to be [samples][pixels][width][height]\n",
    "X_train = X_train.reshape(X_train.shape[0], 28, 28, 1).astype('float32')\n",
    "X_test = X_test.reshape(X_test.shape[0], 28, 28, 1).astype('float32')\n",
    "#Normalize the pixel values to be between 0 and 1\n",
    "X_train = X_train / 255 # normalize training data\n",
    "X_test = X_test / 255 # normalize test data"
   ]
  },
  {
   "cell_type": "code",
   "execution_count": 20,
   "id": "d531323c",
   "metadata": {},
   "outputs": [],
   "source": [
    "#Convert the labels to one-hot encoding\n",
    "y_train = to_categorical(y_train)\n",
    "y_test = to_categorical(y_test)\n",
    "\n",
    "num_classes = y_test.shape[1] # number of categories\n"
   ]
  },
  {
   "cell_type": "code",
   "execution_count": 21,
   "id": "175b205c",
   "metadata": {},
   "outputs": [],
   "source": [
    "def convolutional_model():\n",
    "    \n",
    "    # create model\n",
    "    model = Sequential()\n",
    "    model.add(Input(shape=(28, 28, 1)))\n",
    "    model.add(Conv2D(16, (5, 5), strides=(1, 1), activation='relu'))\n",
    "    model.add(MaxPooling2D(pool_size=(2, 2), strides=(2, 2)))\n",
    "    \n",
    "    model.add(Flatten())\n",
    "    model.add(Dense(100, activation='relu'))\n",
    "    model.add(Dense(num_classes, activation='softmax'))\n",
    "    \n",
    "    # compile model\n",
    "    model.compile(optimizer='adam', loss='categorical_crossentropy',  metrics=['accuracy'])\n",
    "    return model"
   ]
  },
  {
   "cell_type": "code",
   "execution_count": 22,
   "id": "0e8e469c",
   "metadata": {},
   "outputs": [
    {
     "name": "stdout",
     "output_type": "stream",
     "text": [
      "Epoch 1/10\n",
      "300/300 - 1s - 5ms/step - accuracy: 0.9182 - loss: 0.2929 - val_accuracy: 0.9674 - val_loss: 0.1109\n",
      "Epoch 2/10\n",
      "300/300 - 1s - 3ms/step - accuracy: 0.9735 - loss: 0.0905 - val_accuracy: 0.9779 - val_loss: 0.0694\n",
      "Epoch 3/10\n",
      "300/300 - 1s - 3ms/step - accuracy: 0.9820 - loss: 0.0615 - val_accuracy: 0.9832 - val_loss: 0.0511\n",
      "Epoch 4/10\n",
      "300/300 - 1s - 3ms/step - accuracy: 0.9858 - loss: 0.0471 - val_accuracy: 0.9846 - val_loss: 0.0457\n",
      "Epoch 5/10\n",
      "300/300 - 1s - 3ms/step - accuracy: 0.9879 - loss: 0.0386 - val_accuracy: 0.9860 - val_loss: 0.0414\n",
      "Epoch 6/10\n",
      "300/300 - 1s - 3ms/step - accuracy: 0.9903 - loss: 0.0321 - val_accuracy: 0.9864 - val_loss: 0.0408\n",
      "Epoch 7/10\n",
      "300/300 - 1s - 3ms/step - accuracy: 0.9914 - loss: 0.0276 - val_accuracy: 0.9875 - val_loss: 0.0397\n",
      "Epoch 8/10\n",
      "300/300 - 1s - 3ms/step - accuracy: 0.9924 - loss: 0.0233 - val_accuracy: 0.9884 - val_loss: 0.0348\n",
      "Epoch 9/10\n",
      "300/300 - 1s - 3ms/step - accuracy: 0.9938 - loss: 0.0198 - val_accuracy: 0.9881 - val_loss: 0.0342\n",
      "Epoch 10/10\n",
      "300/300 - 1s - 3ms/step - accuracy: 0.9952 - loss: 0.0158 - val_accuracy: 0.9876 - val_loss: 0.0366\n",
      "Test accuracy: 0.9876000285148621\n",
      "Test loss: 0.03656889125704765\n"
     ]
    }
   ],
   "source": [
    "#Build the model\n",
    "model = convolutional_model()\n",
    "\n",
    "#fit the model to the training data\n",
    "model.fit(x_train, y_train, validation_data= (x_test, y_test), epochs=10, batch_size=200,verbose=2)\n",
    "#Evaluate the model on the test data\n",
    "test_loss, test_acc = model.evaluate(x_test, y_test, verbose=0)\n",
    "print('Test accuracy:', test_acc)\n",
    "print('Test loss:', test_loss)\n"
   ]
  },
  {
   "cell_type": "code",
   "execution_count": 23,
   "id": "f225efdd",
   "metadata": {},
   "outputs": [
    {
     "name": "stdout",
     "output_type": "stream",
     "text": [
      "\u001b[1m313/313\u001b[0m \u001b[32m━━━━━━━━━━━━━━━━━━━━\u001b[0m\u001b[37m\u001b[0m \u001b[1m0s\u001b[0m 906us/step\n",
      "Expected class:  7  Predicted class:  7\n",
      "Expected class:  2  Predicted class:  2\n",
      "Expected class:  1  Predicted class:  1\n",
      "Expected class:  0  Predicted class:  0\n",
      "Expected class:  4  Predicted class:  4\n",
      "Expected class:  1  Predicted class:  1\n",
      "Expected class:  4  Predicted class:  4\n",
      "Expected class:  9  Predicted class:  9\n",
      "Expected class:  5  Predicted class:  5\n",
      "Expected class:  9  Predicted class:  9\n"
     ]
    }
   ],
   "source": [
    "#Summarize output vs expected output of the model\n",
    "import numpy as np\n",
    "predictions = model.predict(X_test)\n",
    "predicted_classes = np.argmax(predictions, axis=1)\n",
    "expected_classes = np.argmax(y_test, axis=1)\n",
    "#Compare the predicted classes with the expected classes\n",
    "for i in range(10):\n",
    "    print(\"Expected class: \", expected_classes[i], \" Predicted class: \", predicted_classes[i])\n"
   ]
  }
 ],
 "metadata": {
  "kernelspec": {
   "display_name": ".venv",
   "language": "python",
   "name": "python3"
  },
  "language_info": {
   "codemirror_mode": {
    "name": "ipython",
    "version": 3
   },
   "file_extension": ".py",
   "mimetype": "text/x-python",
   "name": "python",
   "nbconvert_exporter": "python",
   "pygments_lexer": "ipython3",
   "version": "3.12.0"
  }
 },
 "nbformat": 4,
 "nbformat_minor": 5
}
