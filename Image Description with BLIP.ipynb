{
 "cells": [
  {
   "cell_type": "markdown",
   "id": "a91d360b",
   "metadata": {},
   "source": [
    " A practical application of BLIP is in developing an automated photo captioning system"
   ]
  },
  {
   "cell_type": "code",
   "execution_count": 3,
   "id": "04629014",
   "metadata": {},
   "outputs": [
    {
     "name": "stdout",
     "output_type": "stream",
     "text": [
      "Requirement already satisfied: transformers in e:\\machine learning\\.venv\\lib\\site-packages (4.51.3)\n",
      "Requirement already satisfied: filelock in e:\\machine learning\\.venv\\lib\\site-packages (from transformers) (3.18.0)\n",
      "Requirement already satisfied: huggingface-hub<1.0,>=0.30.0 in e:\\machine learning\\.venv\\lib\\site-packages (from transformers) (0.30.2)\n",
      "Requirement already satisfied: numpy>=1.17 in e:\\machine learning\\.venv\\lib\\site-packages (from transformers) (2.0.2)\n",
      "Requirement already satisfied: packaging>=20.0 in e:\\machine learning\\.venv\\lib\\site-packages (from transformers) (24.2)\n",
      "Requirement already satisfied: pyyaml>=5.1 in e:\\machine learning\\.venv\\lib\\site-packages (from transformers) (6.0.2)\n",
      "Requirement already satisfied: regex!=2019.12.17 in e:\\machine learning\\.venv\\lib\\site-packages (from transformers) (2024.11.6)\n",
      "Requirement already satisfied: requests in e:\\machine learning\\.venv\\lib\\site-packages (from transformers) (2.32.3)\n",
      "Requirement already satisfied: tokenizers<0.22,>=0.21 in e:\\machine learning\\.venv\\lib\\site-packages (from transformers) (0.21.1)\n",
      "Requirement already satisfied: safetensors>=0.4.3 in e:\\machine learning\\.venv\\lib\\site-packages (from transformers) (0.5.3)\n",
      "Requirement already satisfied: tqdm>=4.27 in e:\\machine learning\\.venv\\lib\\site-packages (from transformers) (4.67.1)\n",
      "Requirement already satisfied: fsspec>=2023.5.0 in e:\\machine learning\\.venv\\lib\\site-packages (from huggingface-hub<1.0,>=0.30.0->transformers) (2025.3.2)\n",
      "Requirement already satisfied: typing-extensions>=3.7.4.3 in e:\\machine learning\\.venv\\lib\\site-packages (from huggingface-hub<1.0,>=0.30.0->transformers) (4.13.1)\n",
      "Requirement already satisfied: colorama in e:\\machine learning\\.venv\\lib\\site-packages (from tqdm>=4.27->transformers) (0.4.6)\n",
      "Requirement already satisfied: charset-normalizer<4,>=2 in e:\\machine learning\\.venv\\lib\\site-packages (from requests->transformers) (3.4.1)\n",
      "Requirement already satisfied: idna<4,>=2.5 in e:\\machine learning\\.venv\\lib\\site-packages (from requests->transformers) (3.10)\n",
      "Requirement already satisfied: urllib3<3,>=1.21.1 in e:\\machine learning\\.venv\\lib\\site-packages (from requests->transformers) (2.3.0)\n",
      "Requirement already satisfied: certifi>=2017.4.17 in e:\\machine learning\\.venv\\lib\\site-packages (from requests->transformers) (2025.1.31)\n",
      "Requirement already satisfied: Pillow in e:\\machine learning\\.venv\\lib\\site-packages (11.0.0)\n",
      "Requirement already satisfied: torch in e:\\machine learning\\.venv\\lib\\site-packages (2.6.0+cu124)\n",
      "Requirement already satisfied: filelock in e:\\machine learning\\.venv\\lib\\site-packages (from torch) (3.18.0)\n",
      "Requirement already satisfied: typing-extensions>=4.10.0 in e:\\machine learning\\.venv\\lib\\site-packages (from torch) (4.13.1)\n",
      "Requirement already satisfied: networkx in e:\\machine learning\\.venv\\lib\\site-packages (from torch) (3.4.2)\n",
      "Requirement already satisfied: jinja2 in e:\\machine learning\\.venv\\lib\\site-packages (from torch) (3.1.6)\n",
      "Requirement already satisfied: fsspec in e:\\machine learning\\.venv\\lib\\site-packages (from torch) (2025.3.2)\n",
      "Requirement already satisfied: setuptools in e:\\machine learning\\.venv\\lib\\site-packages (from torch) (78.1.0)\n",
      "Requirement already satisfied: sympy==1.13.1 in e:\\machine learning\\.venv\\lib\\site-packages (from torch) (1.13.1)\n",
      "Requirement already satisfied: mpmath<1.4,>=1.1.0 in e:\\machine learning\\.venv\\lib\\site-packages (from sympy==1.13.1->torch) (1.3.0)\n",
      "Requirement already satisfied: MarkupSafe>=2.0 in e:\\machine learning\\.venv\\lib\\site-packages (from jinja2->torch) (3.0.2)\n",
      "Requirement already satisfied: torchvision in e:\\machine learning\\.venv\\lib\\site-packages (0.21.0+cu124)\n",
      "Requirement already satisfied: numpy in e:\\machine learning\\.venv\\lib\\site-packages (from torchvision) (2.0.2)\n",
      "Requirement already satisfied: torch==2.6.0+cu124 in e:\\machine learning\\.venv\\lib\\site-packages (from torchvision) (2.6.0+cu124)\n",
      "Requirement already satisfied: pillow!=8.3.*,>=5.3.0 in e:\\machine learning\\.venv\\lib\\site-packages (from torchvision) (11.0.0)\n",
      "Requirement already satisfied: filelock in e:\\machine learning\\.venv\\lib\\site-packages (from torch==2.6.0+cu124->torchvision) (3.18.0)\n",
      "Requirement already satisfied: typing-extensions>=4.10.0 in e:\\machine learning\\.venv\\lib\\site-packages (from torch==2.6.0+cu124->torchvision) (4.13.1)\n",
      "Requirement already satisfied: networkx in e:\\machine learning\\.venv\\lib\\site-packages (from torch==2.6.0+cu124->torchvision) (3.4.2)\n",
      "Requirement already satisfied: jinja2 in e:\\machine learning\\.venv\\lib\\site-packages (from torch==2.6.0+cu124->torchvision) (3.1.6)\n",
      "Requirement already satisfied: fsspec in e:\\machine learning\\.venv\\lib\\site-packages (from torch==2.6.0+cu124->torchvision) (2025.3.2)\n",
      "Requirement already satisfied: setuptools in e:\\machine learning\\.venv\\lib\\site-packages (from torch==2.6.0+cu124->torchvision) (78.1.0)\n",
      "Requirement already satisfied: sympy==1.13.1 in e:\\machine learning\\.venv\\lib\\site-packages (from torch==2.6.0+cu124->torchvision) (1.13.1)\n",
      "Requirement already satisfied: mpmath<1.4,>=1.1.0 in e:\\machine learning\\.venv\\lib\\site-packages (from sympy==1.13.1->torch==2.6.0+cu124->torchvision) (1.3.0)\n",
      "Requirement already satisfied: MarkupSafe>=2.0 in e:\\machine learning\\.venv\\lib\\site-packages (from jinja2->torch==2.6.0+cu124->torchvision) (3.0.2)\n",
      "Requirement already satisfied: torchaudio in e:\\machine learning\\.venv\\lib\\site-packages (2.6.0+cu124)\n",
      "Requirement already satisfied: torch==2.6.0+cu124 in e:\\machine learning\\.venv\\lib\\site-packages (from torchaudio) (2.6.0+cu124)\n",
      "Requirement already satisfied: filelock in e:\\machine learning\\.venv\\lib\\site-packages (from torch==2.6.0+cu124->torchaudio) (3.18.0)\n",
      "Requirement already satisfied: typing-extensions>=4.10.0 in e:\\machine learning\\.venv\\lib\\site-packages (from torch==2.6.0+cu124->torchaudio) (4.13.1)\n",
      "Requirement already satisfied: networkx in e:\\machine learning\\.venv\\lib\\site-packages (from torch==2.6.0+cu124->torchaudio) (3.4.2)\n",
      "Requirement already satisfied: jinja2 in e:\\machine learning\\.venv\\lib\\site-packages (from torch==2.6.0+cu124->torchaudio) (3.1.6)\n",
      "Requirement already satisfied: fsspec in e:\\machine learning\\.venv\\lib\\site-packages (from torch==2.6.0+cu124->torchaudio) (2025.3.2)\n",
      "Requirement already satisfied: setuptools in e:\\machine learning\\.venv\\lib\\site-packages (from torch==2.6.0+cu124->torchaudio) (78.1.0)\n",
      "Requirement already satisfied: sympy==1.13.1 in e:\\machine learning\\.venv\\lib\\site-packages (from torch==2.6.0+cu124->torchaudio) (1.13.1)\n",
      "Requirement already satisfied: mpmath<1.4,>=1.1.0 in e:\\machine learning\\.venv\\lib\\site-packages (from sympy==1.13.1->torch==2.6.0+cu124->torchaudio) (1.3.0)\n",
      "Requirement already satisfied: MarkupSafe>=2.0 in e:\\machine learning\\.venv\\lib\\site-packages (from jinja2->torch==2.6.0+cu124->torchaudio) (3.0.2)\n"
     ]
    }
   ],
   "source": [
    " #Install the transformers library\n",
    "!pip install transformers\n",
    "!pip install Pillow\n",
    "!pip install torch\n",
    "!pip install torchvision\n",
    "!pip install torchaudio\n",
    "from transformers import BlipProcessor, BlipForConditionalGeneration\n",
    "from PIL import Image"
   ]
  },
  {
   "cell_type": "code",
   "execution_count": 1,
   "id": "a4b1fd99",
   "metadata": {},
   "outputs": [
    {
     "name": "stderr",
     "output_type": "stream",
     "text": [
      "e:\\Machine Learning\\.venv\\Lib\\site-packages\\tqdm\\auto.py:21: TqdmWarning: IProgress not found. Please update jupyter and ipywidgets. See https://ipywidgets.readthedocs.io/en/stable/user_install.html\n",
      "  from .autonotebook import tqdm as notebook_tqdm\n"
     ]
    }
   ],
   "source": [
    "from transformers import BlipProcessor, BlipForConditionalGeneration\n",
    "from PIL import Image"
   ]
  },
  {
   "cell_type": "code",
   "execution_count": 2,
   "id": "f18bda1b",
   "metadata": {},
   "outputs": [
    {
     "name": "stderr",
     "output_type": "stream",
     "text": [
      "Using a slow image processor as `use_fast` is unset and a slow processor was saved with this model. `use_fast=True` will be the default behavior in v4.52, even if the model was saved with a slow processor. This will result in minor differences in outputs. You'll still be able to use a slow processor with `use_fast=False`.\n"
     ]
    }
   ],
   "source": [
    "# Initialize the processor and model from Hugging Face\n",
    "processor = BlipProcessor.from_pretrained(\"Salesforce/blip-image-captioning-base\")\n",
    "model = BlipForConditionalGeneration.from_pretrained(\"Salesforce/blip-image-captioning-base\")"
   ]
  },
  {
   "cell_type": "code",
   "execution_count": 3,
   "id": "ab622e4a",
   "metadata": {},
   "outputs": [],
   "source": [
    "# Load an image\n",
    "image = Image.open(\"E:/Backup/Photo Backup/IMG_0250.PNG\")"
   ]
  },
  {
   "cell_type": "code",
   "execution_count": 4,
   "id": "f991d8de",
   "metadata": {},
   "outputs": [
    {
     "name": "stdout",
     "output_type": "stream",
     "text": [
      "Generated Caption: a couple standing in front of fireworks\n"
     ]
    }
   ],
   "source": [
    "# Prepare the image\n",
    "inputs = processor(image, return_tensors=\"pt\")\n",
    "# Generate captions\n",
    "outputs = model.generate(**inputs)\n",
    "caption = processor.decode(outputs[0],skip_special_tokens=True)\n",
    " \n",
    "print(\"Generated Caption:\", caption)"
   ]
  },
  {
   "cell_type": "markdown",
   "id": "b31906f3",
   "metadata": {},
   "source": [
    "Questions about Image"
   ]
  },
  {
   "cell_type": "code",
   "execution_count": 10,
   "id": "56508b74",
   "metadata": {},
   "outputs": [],
   "source": [
    "import requests\n",
    "from PIL import Image\n",
    "from transformers import BlipProcessor, BlipForConditionalGeneration\n"
   ]
  },
  {
   "cell_type": "code",
   "execution_count": 11,
   "id": "31d959bb",
   "metadata": {},
   "outputs": [],
   "source": [
    "# Image URL \n",
    "img_url = 'https://storage.googleapis.com/sfr-vision-language-research/BLIP/demo.jpg'\n",
    "raw_image = Image.open(requests.get(img_url, stream=True).raw).convert('RGB')"
   ]
  },
  {
   "cell_type": "code",
   "execution_count": 12,
   "id": "a9ac10f7",
   "metadata": {},
   "outputs": [],
   "source": [
    "# Specify the question you want to ask about the image\n",
    "question = \"What is in the image?\""
   ]
  },
  {
   "cell_type": "code",
   "execution_count": 13,
   "id": "3c9cadfb",
   "metadata": {},
   "outputs": [],
   "source": [
    "# Use the processor to prepare inputs for VQA (image + question)\n",
    "inputs = processor(raw_image, question, return_tensors=\"pt\")"
   ]
  },
  {
   "cell_type": "code",
   "execution_count": 14,
   "id": "6f2b0623",
   "metadata": {},
   "outputs": [
    {
     "name": "stdout",
     "output_type": "stream",
     "text": [
      "Answer: what is in the image?\n"
     ]
    }
   ],
   "source": [
    "# Generate the answer from the model\n",
    "out = model.generate(**inputs)\n",
    "# Decode and print the answer to the question\n",
    "answer = processor.decode(out[0], skip_special_tokens=True)\n",
    "print(f\"Answer: {answer}\")"
   ]
  }
 ],
 "metadata": {
  "kernelspec": {
   "display_name": ".venv",
   "language": "python",
   "name": "python3"
  },
  "language_info": {
   "codemirror_mode": {
    "name": "ipython",
    "version": 3
   },
   "file_extension": ".py",
   "mimetype": "text/x-python",
   "name": "python",
   "nbconvert_exporter": "python",
   "pygments_lexer": "ipython3",
   "version": "3.12.0"
  }
 },
 "nbformat": 4,
 "nbformat_minor": 5
}
